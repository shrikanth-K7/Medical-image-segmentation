{
 "cells": [
  {
   "cell_type": "code",
   "execution_count": null,
   "metadata": {},
   "outputs": [],
   "source": [
    "import os\n",
    "import numpy as np\n",
    "import cv2\n",
    "import tensorflow as tf\n",
    "from tensorflow.keras.preprocessing.image import load_img, img_to_array\n",
    "from tensorflow.keras.models import Model\n",
    "from tensorflow.keras.layers import Input, Conv2D, MaxPooling2D, UpSampling2D, concatenate, BatchNormalization, Dropout\n",
    "from sklearn.model_selection import train_test_split\n",
    "import matplotlib.pyplot as plt"
   ]
  },
  {
   "cell_type": "code",
   "execution_count": null,
   "metadata": {},
   "outputs": [],
   "source": [
    "# Set image size\n",
    "IMG_SIZE = 128\n",
    "\n",
    "# Load images (RGB)\n",
    "def load_images(path):\n",
    "    images = []\n",
    "    for file in os.listdir(path):\n",
    "        img = load_img(os.path.join(path, file), target_size=(IMG_SIZE, IMG_SIZE))\n",
    "        img = img_to_array(img) / 255.0  # Normalize\n",
    "        images.append(img)\n",
    "    return np.array(images)\n",
    "\n",
    "# Load segmentation masks (Grayscale)\n",
    "def load_masks(path):\n",
    "    masks = []\n",
    "    for file in os.listdir(path):\n",
    "        img = load_img(os.path.join(path, file), target_size=(IMG_SIZE, IMG_SIZE), color_mode=\"grayscale\")\n",
    "        img = img_to_array(img) / 255.0  # Normalize to [0,1]\n",
    "        img = np.expand_dims(img, axis=-1)  # Add channel dimension (H, W, 1)\n",
    "        masks.append(img)\n",
    "    return np.array(masks)\n",
    "\n",
    "# Set dataset paths\n",
    "image_path = \"C:\\\\Users\\\\srika\\\\Downloads\\\\tumor_segmentation_project\\\\images\"\n",
    "mask_path = \"C:\\\\Users\\\\srika\\\\Downloads\\\\tumor_segmentation_project\\\\masks\"\n",
    "\n",
    "# Load dataset\n",
    "X = load_images(image_path)\n",
    "y = load_masks(mask_path)\n",
    "\n",
    "# Split data into training and validation sets\n",
    "X_train, X_val, y_train, y_val = train_test_split(X, y, test_size=0.2, random_state=42)\n",
    "\n",
    "def unet_model(input_size=(IMG_SIZE, IMG_SIZE, 3)):\n",
    "    inputs = Input(input_size)\n",
    "\n",
    "    # Encoder\n",
    "    c1 = Conv2D(64, (3,3), activation='relu', padding='same')(inputs)\n",
    "    c1 = BatchNormalization()(c1)\n",
    "    c1 = Conv2D(64, (3,3), activation='relu', padding='same')(c1)\n",
    "    c1 = BatchNormalization()(c1)\n",
    "    p1 = MaxPooling2D((2,2))(c1)\n",
    "\n",
    "    c2 = Conv2D(128, (3,3), activation='relu', padding='same')(p1)\n",
    "    c2 = BatchNormalization()(c2)\n",
    "    c2 = Conv2D(128, (3,3), activation='relu', padding='same')(c2)\n",
    "    c2 = BatchNormalization()(c2)\n",
    "    p2 = MaxPooling2D((2,2))(c2)\n",
    "\n",
    "    c3 = Conv2D(256, (3,3), activation='relu', padding='same')(p2)\n",
    "    c3 = BatchNormalization()(c3)\n",
    "    c3 = Conv2D(256, (3,3), activation='relu', padding='same')(c3)\n",
    "    c3 = BatchNormalization()(c3)\n",
    "    p3 = MaxPooling2D((2,2))(c3)\n",
    "\n",
    "    # Bottleneck\n",
    "    c4 = Conv2D(512, (3,3), activation='relu', padding='same')(p3)\n",
    "    c4 = BatchNormalization()(c4)\n",
    "    c4 = Conv2D(512, (3,3), activation='relu', padding='same')(c4)\n",
    "    c4 = Dropout(0.3)(c4)\n",
    "    c4 = BatchNormalization()(c4)\n",
    "\n",
    "    # Decoder\n",
    "    u1 = UpSampling2D((2,2))(c4)\n",
    "    u1 = concatenate([u1, c3])\n",
    "    c5 = Conv2D(256, (3,3), activation='relu', padding='same')(u1)\n",
    "    c5 = BatchNormalization()(c5)\n",
    "    \n",
    "    u2 = UpSampling2D((2,2))(c5)\n",
    "    u2 = concatenate([u2, c2])\n",
    "    c6 = Conv2D(128, (3,3), activation='relu', padding='same')(u2)\n",
    "    c6 = BatchNormalization()(c6)\n",
    "    \n",
    "    u3 = UpSampling2D((2,2))(c6)\n",
    "    u3 = concatenate([u3, c1])\n",
    "    c7 = Conv2D(64, (3,3), activation='relu', padding='same')(u3)\n",
    "    c7 = BatchNormalization()(c7)\n",
    "    \n",
    "    outputs = Conv2D(1, (1,1), activation='sigmoid')(c7)\n",
    "    \n",
    "    model = Model(inputs, outputs)\n",
    "    model.compile(optimizer='adam', loss='binary_crossentropy', metrics=['accuracy'])\n",
    "    return model\n",
    "\n",
    "# Train model\n",
    "model = unet_model()\n",
    "history = model.fit(X_train, y_train, validation_data=(X_val, y_val), epochs=10, batch_size=16)\n",
    "\n",
    "# Save trained model\n",
    "model.save(\"optimized_brain_tumor_segmentation.h5\")\n",
    "\n"
   ]
  },
  {
   "cell_type": "code",
   "execution_count": null,
   "metadata": {},
   "outputs": [],
   "source": [
    "# Tumor Detection and Visualization\n",
    "def segment_brain_tumor(image_path, model):\n",
    "    img = load_img(image_path, target_size=(IMG_SIZE, IMG_SIZE))\n",
    "    img_array = img_to_array(img) / 255.0\n",
    "    img_array = np.expand_dims(img_array, axis=0)  # Add batch dimension\n",
    "    \n",
    "    pred_mask = model.predict(img_array)[0]\n",
    "    pred_mask = (pred_mask > 0.5).astype(np.uint8)  # Apply threshold\n",
    "    \n",
    "    return img, pred_mask\n",
    "\n",
    "def check_tumor(mask):\n",
    "    return np.sum(mask) > 0  # If mask has non-zero pixels, tumor exists"
   ]
  },
  {
   "cell_type": "code",
   "execution_count": null,
   "metadata": {},
   "outputs": [],
   "source": [
    "# Select and Predict Tumor\n",
    "def select_image_and_predict(image_path):\n",
    "    model = tf.keras.models.load_model(\"optimized_brain_tumor_segmentation.h5\")\n",
    "    original, mask = segment_brain_tumor(image_path, model)\n",
    "    predicted_mask = mask.squeeze()\n",
    "    \n",
    "    tumor_exists = check_tumor(mask)\n",
    "    print(\"Tumor Detected!\" if tumor_exists else \"No Tumor Found.\")\n",
    "    \n",
    "    # Display MRI Image and Predicted Mask\n",
    "    plt.figure(figsize=(8, 4))\n",
    "    plt.subplot(1, 2, 1)\n",
    "    plt.imshow(original)\n",
    "    plt.title(\"Original MRI\")\n",
    "    plt.subplot(1, 2, 2)\n",
    "    plt.imshow(predicted_mask, cmap=\"gray\")\n",
    "    plt.title(\"Predicted Tumor Mask\")\n",
    "    plt.show()"
   ]
  },
  {
   "cell_type": "code",
   "execution_count": null,
   "metadata": {},
   "outputs": [],
   "source": [
    "# Example usage\n",
    "image_path = \"C:\\\\Users\\\\srika\\\\Downloads\\\\sample test 1.png\"  # Set the MRI image file path here\n",
    "select_image_and_predict(image_path)"
   ]
  },
  {
   "cell_type": "code",
   "execution_count": null,
   "metadata": {},
   "outputs": [],
   "source": [
    "# Example usage\n",
    "image_path = \"C:\\\\Users\\\\srika\\\\Downloads\\\\914.png\"  # Set the MRI image file path here\n",
    "select_image_and_predict(image_path)"
   ]
  },
  {
   "cell_type": "code",
   "execution_count": null,
   "metadata": {},
   "outputs": [],
   "source": [
    "# Example usage\n",
    "image_path = \"C:\\\\Users\\\\srika\\\\Downloads\\\\sample test.jpg\"  # Set the MRI image file path here\n",
    "select_image_and_predict(image_path)"
   ]
  },
  {
   "cell_type": "code",
   "execution_count": null,
   "metadata": {},
   "outputs": [],
   "source": [
    "# Example usage\n",
    "image_path = \"C:\\\\Users\\\\srika\\\\Downloads\\\\sample test 3.jpg\"  # Set the MRI image file path here\n",
    "select_image_and_predict(image_path)"
   ]
  },
  {
   "cell_type": "code",
   "execution_count": null,
   "metadata": {},
   "outputs": [],
   "source": [
    "# Example usage\n",
    "image_path = \"C:\\\\Users\\\\srika\\\\Downloads\\\\sample test 4.png\"  # Set the MRI image file path here\n",
    "select_image_and_predict(image_path)"
   ]
  }
 ],
 "metadata": {
  "kernelspec": {
   "display_name": "Python 3",
   "language": "python",
   "name": "python3"
  },
  "language_info": {
   "codemirror_mode": {
    "name": "ipython",
    "version": 3
   },
   "file_extension": ".py",
   "mimetype": "text/x-python",
   "name": "python",
   "nbconvert_exporter": "python",
   "pygments_lexer": "ipython3",
   "version": "3.12.8"
  }
 },
 "nbformat": 4,
 "nbformat_minor": 2
}
